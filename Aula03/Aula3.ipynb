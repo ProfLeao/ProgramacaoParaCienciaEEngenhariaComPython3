{
 "cells": [
  {
   "cell_type": "markdown",
   "metadata": {},
   "source": [
    "# Computação Aplicada"
   ]
  },
  {
   "cell_type": "markdown",
   "metadata": {},
   "source": [
    "## Aula 03"
   ]
  },
  {
   "cell_type": "markdown",
   "metadata": {},
   "source": [
    "### Conteúdo\n",
    "\n",
    "1. Operadores lógicos\n",
    "2. Expressões lógicas\n",
    "3. Estruturas condicionais\n",
    "4. Estruturas de laço\n",
    "5. Definindo funções"
   ]
  },
  {
   "cell_type": "markdown",
   "metadata": {},
   "source": [
    "#### Tipo Bool e Variáveis Lógicas\n",
    "\n",
    "Um dos tipos de dados mais importantes de qualquer linguagem de programação são os denominados booleanos ou lógicos. Estes dados podem assumir apenas dois valores possíveis `True` (verdade) ou  `False`(falso). As variáveis que contêm dados deste tipo são geralmente chamadas de variáveis lógicas. Veja nas linhas abaixo o processo de inicialização de uma variável deste tipo. "
   ]
  },
  {
   "cell_type": "code",
   "execution_count": null,
   "metadata": {},
   "outputs": [],
   "source": [
    "val_bool_1 = True #Inicializa uma variável lógica com uma declaração verdadeira. \n",
    "val_bool_2 = False #Inicializa uma variável lógica com uma declaração falsa. \n",
    "print(val_bool_1, val_bool_2)"
   ]
  },
  {
   "cell_type": "markdown",
   "metadata": {},
   "source": [
    "#### Operadores Relacionais"
   ]
  },
  {
   "cell_type": "markdown",
   "metadata": {},
   "source": [
    "Os operadores relacionais fazem verificações que testam condições verdadeiras ou falsas. \n",
    "\n",
    "Os operadores disponíveis na linguagem Python 3, são os seguintes:\n",
    "\n",
    "1. Operador Igual (`A == B`): Verifica se o operando A é igual ao operando B, retornando `True` se for igual e `False` se for diferente.\n",
    "2. Operador Diferente (`A != B`): Verifica se o operando A é diferente do operando B, retornando `True` se forem diferentes ou `False` se forem iguais.\n",
    "3. Operador Maior que (`A > B`): Verifica se o operando A é maior que operando B, retornando `True` se for maior ou `False` se não for.\n",
    "4. Operador Menor Que (`A < B`): Verifica se o operando A é menor que operando B, retornando `True` se for menor ou `False` se não for.\n",
    "5. Operador Maior que (`A >= B`): Verifica se o operando A é maior ou igual ao operando B, retornando `True` se for maior ou igual ou `False` se não for.\n",
    "6. Operador Menor Que (`A <= B`): Verifica se o operando A é menor igual ao operando B, retornando `True` se for menor ou igual ou `False` se não for.\n",
    "\n",
    "Com os operadores relacionais é possível a composição das chamadas expressões relacionais. Estas expressões verificam, com os operadores, as relações lógicas entre os operandos. \n",
    "\n",
    "Na linha abaixo, as expressões relacionais verificam qual a relação de semelhança entre duas variáveis fornecidas pelo usuário. "
   ]
  },
  {
   "cell_type": "code",
   "execution_count": null,
   "metadata": {},
   "outputs": [],
   "source": [
    "val1 = int(input(\"Informe um número inteiro:\"))\n",
    "val2 = int(input(\"Informe outro número inteiro:\"))\n",
    "print(\"O valor 1 é maior que o valor 2? \", val1 > val2)\n",
    "print(\"O valor 1 é menor que o valor 2? \", val1 < val2)\n",
    "print(\"O valor 1 é igual ao valor 2? \", val1 == val2)"
   ]
  },
  {
   "cell_type": "markdown",
   "metadata": {},
   "source": [
    "#### Operadoles Lógicos\n",
    "\n",
    "Enquanto os operadores relacionais retornam valores booleanos por meio da comparação de dados de qualquer tipo, os operadores lógicos verificam as relações exclusivamente sobre dados booleanos. Assim é possível fazer testes lógicos sobre dados lógicos. \n",
    "\n",
    "Esta funcionalidade é especialmente útil para se verificar múltiplas condições para um determinado valor. \n",
    "\n",
    "São três os operadores lógicos mais usuáis:\n",
    "\n",
    "1. Operador binário `A or B`: Verifica se pelo menos um dos operandos A ou B é verdadeiro, se for retorna `True`, se não, retorna `False`.\n",
    "2. Operador binário `A and B`: Verifica se ambos os operandos A ou B são verdadeiros, se forem retorna `True`, se não, retorna `False`.\n",
    "3. Operador unário `not C`: Nega o booleano `C`, se `C = True`, `not C = False`, se `C = False`, `not C = True`.\n",
    "\n",
    "Note que os dois primeiros operadores lógicos listados são binários, ou seja, atuam sobre dois operandos, ao passo que o terceiro atua sobre apenas um. \n",
    "\n",
    "Veja sua utilização nas linhas abaixo."
   ]
  },
  {
   "cell_type": "code",
   "execution_count": null,
   "metadata": {},
   "outputs": [],
   "source": [
    "A = True\n",
    "B = False\n",
    "C = False\n",
    "\n",
    "print(A or B)\n",
    "print(A and B)\n",
    "print(A or A)\n",
    "print(A and A)\n",
    "print(B or B)\n",
    "print(B and B)\n",
    "\n",
    "print(not A)\n",
    "print(not B)\n",
    "print(not C)"
   ]
  },
  {
   "cell_type": "markdown",
   "metadata": {},
   "source": [
    "#### Exemplo 1\n",
    "Construa uma expressão condicional que verifica se um determinado valor é par e menor que 20."
   ]
  },
  {
   "cell_type": "code",
   "execution_count": null,
   "metadata": {},
   "outputs": [],
   "source": [
    "val = 17\n",
    "\n",
    "print((val%2==0) and (val<20))"
   ]
  },
  {
   "cell_type": "markdown",
   "metadata": {},
   "source": [
    "#### Atividade 1\n",
    "Modifique a expressão lógica para que ela verifique se um número é impar, maior que zero e menor que cinquenta. "
   ]
  },
  {
   "cell_type": "code",
   "execution_count": null,
   "metadata": {},
   "outputs": [],
   "source": [
    "val = 52\n",
    "\n",
    "print((val%2!=0) and (0<val<50))"
   ]
  },
  {
   "cell_type": "code",
   "execution_count": null,
   "metadata": {},
   "outputs": [],
   "source": [
    "val = 52\n",
    "\n",
    "print((val%2!=0) and (0<val) and (val<50))"
   ]
  },
  {
   "cell_type": "markdown",
   "metadata": {},
   "source": [
    "#### Estruturas Condicionais\n",
    "\n",
    "Chama-se estrutura condicional um bloco de código que será executado apenas após a verificação da validade de uma condição lógica, sendo esta condição satisfeita, o bloco executa, do contrário transfere o controle do programa para a próxima instrução. \n",
    "\n",
    "Estruturas desta natureza, são utilizadas para o controle do fluxo de execução do código. Diz-se que a execução pode ser direcionada segundo o interesse do programador. \n",
    "\n",
    "A linguagem Python 3 possui três blocos lógicos básicos. O bloco `if`, o bloco `else` e o bloco `elif`. \n",
    "\n",
    "O primeiro deles deve ser seguido de uma operação relacional ou expressão lógica cuja a saída seja inequívoca, o bloco será executado apenas se o condição for resolvida como verdadeira. \n",
    "\n",
    "Nas linhas abaixo se vê a declaração de um bloco lógico que será executado apenas se a expressão lógica do exemplo 1 for resolvida como verdadeira."
   ]
  },
  {
   "cell_type": "code",
   "execution_count": null,
   "metadata": {},
   "outputs": [],
   "source": [
    "val = 10\n",
    "if (val%2==0) and (val<20): #cabeçalho do bloco\n",
    "    print(f\"O número {val} é par e menor que 20.\")"
   ]
  },
  {
   "cell_type": "markdown",
   "metadata": {},
   "source": [
    "Se a variável for incializada com um valor que não satisfaça a condição, nada será exibido. "
   ]
  },
  {
   "cell_type": "code",
   "execution_count": null,
   "metadata": {},
   "outputs": [],
   "source": [
    "val = 17\n",
    "if (val%2==0) and (val<20): #cabeçalho do bloco\n",
    "    print(f\"O número {val} é par e menor que 20.\")"
   ]
  },
  {
   "cell_type": "markdown",
   "metadata": {},
   "source": [
    "O bloco condicional `else`, por sua vez, é utilizado quando se quer determinar um bloco de código para ser executado quando a condição declarado no `if` for retornada como `False`, ou seja, o bloco `else` será executado, apenas se o bloco `if` não for executado. "
   ]
  },
  {
   "cell_type": "code",
   "execution_count": null,
   "metadata": {},
   "outputs": [],
   "source": [
    "val = 18\n",
    "if (val%2==0) and (val<20): #cabeçalho do bloco\n",
    "    print(f\"O número {val} é par e menor que 20.\")\n",
    "else:\n",
    "    print(f\"O número {val} não atende a condição especificada.\")"
   ]
  },
  {
   "cell_type": "markdown",
   "metadata": {},
   "source": [
    "Opcionalmente `elif` pode ser usado para verificar condições adicionais à condição declarada no `if`, veja o caso em que um teste mais detalhado é implementado."
   ]
  },
  {
   "cell_type": "code",
   "execution_count": null,
   "metadata": {},
   "outputs": [],
   "source": [
    "val = 23\n",
    "if (val%2==0) and (val<20): #cabeçalho do bloco\n",
    "    print(f\"O número {val} é par e menor que 20.\")\n",
    "elif (val%2==0):\n",
    "    print(f\"O número {val} é par mas não é menor que 20.\")\n",
    "elif (val<20):\n",
    "    print(f\"O número {val} é menor que 20, mas não é par.\")\n",
    "else:\n",
    "    print(f\"O número {val} não atende a condição especificada.\")"
   ]
  },
  {
   "cell_type": "markdown",
   "metadata": {},
   "source": [
    "Em muitas situações pode ser necessário que os blocos lógicos sejam declarados dentro de outros blocos lógicos, a o que é dado o nome de aninhamento. O Exemplo 2 ilustra essa utilização.\n",
    "\n",
    "#### Exemplo 2\n",
    "Escreva um programa que inicialize dois números e verifique qual o maior número ou se são iguais. "
   ]
  },
  {
   "cell_type": "code",
   "execution_count": null,
   "metadata": {},
   "outputs": [],
   "source": [
    "x = 14.\n",
    "y = 14\n",
    "if x < y:\n",
    "    print(\"x é menor que y.\")\n",
    "else:\n",
    "    if x > y: #if aninhado\n",
    "        print(\"x é maior do que y.\")\n",
    "    else: #else aninhado\n",
    "        print(\"x e y podem ser iguais.\")"
   ]
  },
  {
   "cell_type": "markdown",
   "metadata": {},
   "source": [
    "#### Laços\n",
    "\n",
    "Um laço, ou *loop*, nãda mais é que um bloco de código que é executado **n** vezes durante a execução do programa. \n",
    "\n",
    "Os laços pode ser utilizados para vários propósitos mas na grande maioria dos casos, eles são utilizados para a interação com conjuntos de valores, quando se deseja repetir sequencialmente uma determinada operação, ou para a construção de operações matemáticas sequenciais, tais como somatórios e produtórios. \n",
    "\n",
    "Estes blocos são implementados no Python 3 de duas formas distintas, pelo bloco `for`, quando o número de iterações necessário é conhecido, ou pelo laço `while` quando a execução do laço é condicional, ou seja, quando o bloco deve ser repetido até que uma determinada condição deixe de ser verdadeira.\n",
    "\n",
    "##### Laço `for` \n",
    "\n",
    "Este bloco é incializado com pelo menos uma variável local - variável que só terá siguinificado no iterior do bloco - e um iterável.\n",
    "\n",
    "Em Python 3, iteráveis são sequências de dados indexadas que podem ser percorridas pelo laço durante sua execução. Todos os *containers* estudados são interáveis. \n",
    "\n",
    "Veja o caso da iteração ao longo de uma lista numérica de 10 elementos. "
   ]
  },
  {
   "cell_type": "code",
   "execution_count": null,
   "metadata": {},
   "outputs": [],
   "source": [
    "lista = [1, 2, 3, 4, 5, 6, 7, 8, 9, 10] #Declaração do iterável\n",
    "for i in lista: #i é a variável local\n",
    "    print(i)"
   ]
  },
  {
   "cell_type": "markdown",
   "metadata": {},
   "source": [
    "Quando o bloco foi executado, variável `i` assumiu cada um dos valores do iterador em cada uma das execuções do bloco. Na primeira execução `i=1`, na segunda `i=2`, na terceira `i=3` e assim por diante. "
   ]
  },
  {
   "cell_type": "markdown",
   "metadata": {},
   "source": [
    "#### Exemplo 3\n",
    "Utilizando o laço for, calcule o somatório das raízes cúbicas de cada um dos valores inteiros entre 0 e 11."
   ]
  },
  {
   "cell_type": "code",
   "execution_count": null,
   "metadata": {},
   "outputs": [],
   "source": [
    "lista = [1, 2, 3, 4, 5, 6, 7, 8, 9, 10] #Inteiros entre 0 e 11\n",
    "somatorio = 0 #Inicialização do somatório com o elemento neutro da soma\n",
    "for i in lista:\n",
    "    somatorio+=(i)**(1/2)\n",
    "print(somatorio)"
   ]
  },
  {
   "cell_type": "markdown",
   "metadata": {},
   "source": [
    "Casos em que o laço precise ser executado um número finito de vezes, podem ser implementados utilizando a função `range(ini,fim)`. Esta função cria iteradores rápidos que inicializam em seu primeiro argumento (`ini`) e terminam em `fim-1`. \n",
    "\n",
    "Na chamada a esta função o parâmetro `ini` é opcional, quando for omitido, por padrão `ini` é assumido como zero.\n",
    "\n",
    "Veja nas linhas abaixo como o Exemplo 3 poderia ser resolvido sem a utilização da `lista`."
   ]
  },
  {
   "cell_type": "code",
   "execution_count": null,
   "metadata": {},
   "outputs": [],
   "source": [
    "somatorio = 0 #Inicialização do somatório com o elemento neutro da soma\n",
    "for i in range(1,int(1e6+1)):\n",
    "    somatorio+=(i)**(1/3)\n",
    "print(somatorio)"
   ]
  },
  {
   "cell_type": "code",
   "execution_count": null,
   "metadata": {},
   "outputs": [],
   "source": [
    "seq = range(1,int(1e6+1))\n",
    "print(list(seq)[35])"
   ]
  },
  {
   "cell_type": "markdown",
   "metadata": {},
   "source": [
    "#### Atividade 2\n",
    "Se m=3.5, determine o somatório dos primeiro mil elementos da série `m**i` iniciada em i=1 e incrementada unitariamente."
   ]
  },
  {
   "cell_type": "code",
   "execution_count": null,
   "metadata": {},
   "outputs": [],
   "source": []
  },
  {
   "cell_type": "markdown",
   "metadata": {},
   "source": [
    "##### Laço `while`\n",
    "\n",
    "Este tipo de laço executa repetidamente até que uma determinada condição declarada em seu cabeçalho torne-se falsa, e então para. Sua utilização é fundamental para o caso em que se deseja implementar um laço para o qual não se conhece o número de iterações que devem acontecer.\n",
    "\n",
    "Veja no código abaixo como o Exemplo 3 poderia ser implementado pela utilização do `while` no lugar do `for`."
   ]
  },
  {
   "cell_type": "code",
   "execution_count": null,
   "metadata": {},
   "outputs": [],
   "source": [
    "somatorio = 0 \n",
    "cont = 1 #contador de iterações\n",
    "while cont <= 10:\n",
    "    somatorio+=(cont)**(1/3)\n",
    "    cont+=1\n",
    "print(somatorio)"
   ]
  },
  {
   "cell_type": "markdown",
   "metadata": {},
   "source": [
    "Este tipo de laço também pode ser interrompido por meio de *flags*. Uma *flag* é um status assumido por uma variável que termina a condição de parada. \n",
    "\n",
    "Suponha que um usuário deseje fazer a soma de `n` números digitados pelo usuário, e que a digitação seja interrompida apenas quando o caractere `x` seja informado. \n",
    "\n",
    "Veja a solução deste caso."
   ]
  },
  {
   "cell_type": "code",
   "execution_count": null,
   "metadata": {},
   "outputs": [],
   "source": [
    "soma = []\n",
    "val = ''\n",
    "while val.lower() != 'x':\n",
    "    val = input(\"Digite um número para ser somado: \")\n",
    "    soma.append(val)\n",
    "else:\n",
    "    for i in range(len(soma)-1):\n",
    "        soma[i] = float(soma[i])\n",
    "    print(f\"A soma foi de {sum(soma[:-1])}\")"
   ]
  },
  {
   "cell_type": "markdown",
   "metadata": {},
   "source": [
    "No código acima foram utilizadas duas novas funções, a função `len()` que retorna o comprimento de um iterável, e a função `sum()` que retorna a soma algébrica dos elementos de um interável quando estes são somáveis algebricamente, do contrário retornará um erro.\n",
    "\n",
    "Este código pode ser simplificado pela manipulação de erros e excessões, no entanto, como este recurso ainda não foi visto, o código foi criado desta forma desta forma.\n",
    "\n",
    "Neste caso, a variável `val` além de armazenar os valores a serem somados, também é uma *flag* de interrupção, que interromperá o `while` quando assumir o valor `x`. \n",
    "\n",
    "Opcionalmente outra solução poderia ser preferida, nesta foi criado um laço infinito."
   ]
  },
  {
   "cell_type": "code",
   "execution_count": null,
   "metadata": {},
   "outputs": [],
   "source": [
    "entrada = float(input('Informe o número a ser somado ou digite q para sair: \\n'))\n",
    "somatorio = entrada\n",
    "while True:\n",
    "    entrada = input()\n",
    "    if entrada != 'q':\n",
    "        entrada = float(entrada)\n",
    "        somatorio+=entrada\n",
    "    else:\n",
    "        break\n",
    "\n",
    "print('O somatório dos valores digitados foi de: {}'.format(somatorio))\n",
    "#Atenção ao método .format() de uma string, ele pode ser utilizado para inserior variáveis de quaisques\n",
    "#tipos no interior de uma string. "
   ]
  }
 ],
 "metadata": {
  "kernelspec": {
   "display_name": "Python 3 (ipykernel)",
   "language": "python",
   "name": "python3"
  },
  "language_info": {
   "codemirror_mode": {
    "name": "ipython",
    "version": 3
   },
   "file_extension": ".py",
   "mimetype": "text/x-python",
   "name": "python",
   "nbconvert_exporter": "python",
   "pygments_lexer": "ipython3",
   "version": "3.9.16"
  }
 },
 "nbformat": 4,
 "nbformat_minor": 4
}
