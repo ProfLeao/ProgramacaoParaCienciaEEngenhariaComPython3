{
 "cells": [
  {
   "cell_type": "markdown",
   "metadata": {},
   "source": [
    "# Computação Aplicada A Ciência e Engenharia\n",
    "\n",
    "## Introdução à Linguagem Python (Aula 01-C)\n",
    "\n",
    "## Conteúdo\n",
    "\n",
    "1. A biblioteca padrão *Math*;\n",
    "2. A biblioteca Numpy;\n",
    "3. A função *buint* in `input()`."
   ]
  },
  {
   "cell_type": "markdown",
   "metadata": {},
   "source": [
    "## 1. Biblioteca *standard* Math\n",
    "\n",
    "A linguagem Python 3 ao ser intalada em uma máquina trás, na própria instalação, uma série de livrarias que são denominadas \n",
    "*Python Standard Library* a lista completa destas funcionalidades é extensa e pode ser encontrada em [AQUI](https://docs.python.org/3/library/).\n",
    "\n",
    "A listagem abaixo mostra a passagem de uma instrução ao interpretador que tenta calcular a raiz quadrada do inteiro quatro (4). Note que não foi possível a efetivação da tarega e um erro foi retornado como saída. No erro se lê `name 'sqrt' is not defined` ( o nome sqrt não é definido), o que significa que o kernel do interpretador não consegue atribuir significado à chamada de uma função denominada `sqrt`."
   ]
  },
  {
   "cell_type": "code",
   "execution_count": null,
   "metadata": {},
   "outputs": [],
   "source": [
    "sqrt(4) #tenta calcular a raiz quadrada do inteiro 4."
   ]
  },
  {
   "cell_type": "markdown",
   "metadata": {},
   "source": [
    "Agora veja o comportamento do interpretador quando a bilioteca `math`é utilizada. "
   ]
  },
  {
   "cell_type": "code",
   "execution_count": null,
   "metadata": {},
   "outputs": [],
   "source": [
    "from math import * # Importação de todas as funcionalidade de math\n",
    "sqrt(4)"
   ]
  },
  {
   "cell_type": "markdown",
   "metadata": {},
   "source": [
    "Na listagem anterior todas as funcionalidades da biblioteca foram importadas para o kernel do interpretador, tecnicamente, na primeira linham estamos dizendo ao interpretador **de math importe tudo**.\n",
    "\n",
    "Apesar de funcional, esta não é uma boa prática de programação, já que as funcionalidade de math se combinam com as funcionalidade *built in* do Python o que pode gerar erros caso alguma função básica tenha o mesmo nome de uma *built in*.\n",
    "\n",
    "Uma forma mais segura de fazer tal importação seria:"
   ]
  },
  {
   "cell_type": "code",
   "execution_count": null,
   "metadata": {},
   "outputs": [],
   "source": [
    "import math as mt\n",
    "mt.sqrt(4)"
   ]
  },
  {
   "cell_type": "markdown",
   "metadata": {},
   "source": [
    "Uma maneira ainda mais otimizada de utilizar funcionalidades de bibliotecas, seria fazendo a importação exclusiva da ou das função que se deseja utilizar. Se de *math* quiséssemos importar apenas `sqrt` então poderíamos fazer como na listagem abaixo."
   ]
  },
  {
   "cell_type": "code",
   "execution_count": null,
   "metadata": {},
   "outputs": [],
   "source": [
    "from math import sqrt as mtsqrt\n",
    "mtsqrt(9)"
   ]
  },
  {
   "cell_type": "markdown",
   "metadata": {},
   "source": [
    "Veja que neste caso importamos apenas a função `sqrt` da biblioteca e a ela demos o *alias* `mtsqrt`, desta forma evitamos que as funcionalidades externas entrem em conflito com funcionalidades *built in* e ainda evitamos a alocação desnecessária de memória, já que não importamos toda a livraria."
   ]
  },
  {
   "cell_type": "markdown",
   "metadata": {},
   "source": [
    "### Exercício 1\n",
    "\n",
    "Modifique seu programa desenvolvido no exercício anterior para que agora ele passe a utilizar a biblioteca `math`. \n",
    "\n",
    "### Exercício 2\n",
    "\n",
    "Faça uma calculador trigonométrica com a qual o usuário possa selecionar entre as funções seno cosseno e tangente e fazer a entrada de um determinado ângulo e obter o resultado correspondente. "
   ]
  },
  {
   "cell_type": "markdown",
   "metadata": {},
   "source": [
    "## 2. Bibliteca NumPy\n",
    "\n",
    "A biblioteca (Numpy)[https://numpy.org] será certamente a mais utilizada neste curso, veja nas linhas abaixo como fazer o cálculo da raiz quadrada de um determanado valor com esta bibliteca. "
   ]
  },
  {
   "cell_type": "code",
   "execution_count": null,
   "metadata": {},
   "outputs": [],
   "source": [
    "import numpy as np\n",
    "np.sqrt(4)"
   ]
  },
  {
   "cell_type": "markdown",
   "metadata": {},
   "source": [
    "Alternativamente, e se soubéssemos com certeza que apenas a função `sqrt` seria necessária para o programa, então a importação poderia ser realizada como:"
   ]
  },
  {
   "cell_type": "code",
   "execution_count": null,
   "metadata": {},
   "outputs": [],
   "source": [
    "from numpy import sqrt as npsqrt\n",
    "npsqrt(4)"
   ]
  },
  {
   "cell_type": "markdown",
   "metadata": {},
   "source": [
    "A biblioteca NumPy possui todas as funcionalidades de `math` e muitas outras, por motivos de economia de memória, é conveniente que apenas uma delas seja importada para o kernel. Neste curso a NumPy será preferida pois o número de funcionalidades que possui é superior a `math`, além de ser mais otimizada no tempo de execução. Acesse [Numpy Basic Math](https://docs.scipy.org/doc/numpy-1.13.0/reference/routines.math.html) para encontrar as funções matemáticas disponíveis.\n",
    "\n",
    "### Exercício 3\n",
    "\n",
    "Modifique sua calculadora trigonométrica para que ela utilize Numpy no lugar de `math`. "
   ]
  },
  {
   "cell_type": "markdown",
   "metadata": {},
   "source": [
    "## 2. A função *buint* in `input()`.\n",
    "\n",
    "Para resolver os exercícios propostos a função *built in* `input()` pode ser necessária, basicamente ela solicita ao usuário a inserção de um determinado valor por meio do dispositivo padrão de entrada, geralmente o teclado, apos a inserção que se dá quando o usuário digita o valor desejado e pressiona a tecla `enter`, a função retorna o valor fornecido no formato de uma cadeia de caracteres.\n",
    "\n",
    "Veja um exemplo de sua utilização."
   ]
  },
  {
   "cell_type": "code",
   "execution_count": null,
   "metadata": {},
   "outputs": [],
   "source": [
    "nome = input(\"Digite seu nome: \") #Note o texto passado como argumento da função.\n",
    "print(nome)"
   ]
  },
  {
   "cell_type": "markdown",
   "metadata": {},
   "source": [
    "Outro exemplo:"
   ]
  },
  {
   "cell_type": "code",
   "execution_count": null,
   "metadata": {},
   "outputs": [],
   "source": [
    "val = input(\"Digite um número: \")\n",
    "print(type(val))"
   ]
  },
  {
   "cell_type": "markdown",
   "metadata": {},
   "source": [
    "Note que o usuário digitou um número real, mas a função armazenou um objeto da classe `str`, abreviação de *string*, que são cadeias de caracteres sequenciais e ordenados. Para que o valor fosse armazenado como número o procedimento correto seria:"
   ]
  },
  {
   "cell_type": "code",
   "execution_count": null,
   "metadata": {},
   "outputs": [],
   "source": [
    "val_int = int(input(\"Digite um inteiro: \")) # linha A\n",
    "val_real = float(input(\"Digite um número real: \")) #linha B\n",
    "print(type(val_int))\n",
    "print(type(val_real))"
   ]
  },
  {
   "cell_type": "markdown",
   "metadata": {},
   "source": [
    "Nas linhas A e B, as funções *built in* foram usadas para converter o retorno da função `input()` (aninhada) em inteiro (linha A) por meio da função `int()` e ponto flutuante `float()` (linha B).\n",
    "Instruções explícitas para a conversão de um valor para um novo tipo sõ"
   ]
  }
 ],
 "metadata": {
  "kernelspec": {
   "display_name": "Python 3",
   "language": "python",
   "name": "python3"
  },
  "language_info": {
   "codemirror_mode": {
    "name": "ipython",
    "version": 3
   },
   "file_extension": ".py",
   "mimetype": "text/x-python",
   "name": "python",
   "nbconvert_exporter": "python",
   "pygments_lexer": "ipython3",
   "version": "3.8.5"
  }
 },
 "nbformat": 4,
 "nbformat_minor": 4
}
