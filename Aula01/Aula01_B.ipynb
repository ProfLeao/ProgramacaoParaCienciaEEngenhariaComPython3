{
 "cells": [
  {
   "cell_type": "markdown",
   "metadata": {},
   "source": [
    "# Computação Aplicada A Ciência e Engenharia\n",
    "\n",
    "## Introdução à Linguagem Python (Aula 01-B)\n",
    "\n",
    "## Conteúdo\n",
    "\n",
    "1. Palavras reservadas e funções *built-in*;\n",
    "2. Tipos de dados básicos em Python;\n",
    "3. Definindo funções."
   ]
  },
  {
   "cell_type": "markdown",
   "metadata": {},
   "source": [
    "## 1 Palavras reservadas e funções *built-in* de Python 3\n",
    "\n",
    "Python3 é uma lingaugem altamente modularizada, isto significa dizer que quando o interpretador é inicializado, apenas o `core`da lingaugem está disponível, ou seja, após a inicialização o interpreteador a capaz de compreender apenas a gramática básica da linguagem que é determinada pelas palavras chaves e pelas funções do tipo *built in* que são funções nativas da linguagem.\n",
    "\n",
    "Uma função em Python 3 é uma entidade computacional dita *callable* significa que ela pode ser **chamada** para executar uma tarefa segundo o fornecimento ou não de informações adicionais para estas funções. Na aula anterior a função *built in* `print()` foi usada para exibir valores. \n",
    "\n",
    "Já as palavras reservadas, também chamadas de palavras chave, são um conjunto de palavras que são utilizadas pela \n",
    "linguagem para executarem uma tarefa e por isso não devem ser utilizadas para outros propósitos em um programa. \n",
    "Abaixo são listadas as palavras reservadas de Python 3 e suas funções *built in*.\n",
    "\n",
    "- Palavras Reservadas: `False\tclass\tfinally\tis\treturn\t None\tcontinue\tfor\tlambda\ttry True\tdef\tfrom\tnonlocal\twhile\t and\tdel\tglobal\tnot\twith\t as\telif\tif\tor\tyield\t assert\telse\timport\tpass break\texcept\tin\traise`  que são:\n",
    "\n",
    "- *built in functions: `abs()\tdict()\thelp()\tmin()\tsetattr()\t all()\tdir()\thex()\tnext()\tslice()\t any()\tdivmod()\tid()\tobject()\tsorted()\t ascii()\tenumerate()\tinput()\toct()\tstaticmethod() bin()\teval()\tint()\topen()\tstr()\t bool()\texec()\tisinstance()\tord()\tsum()\t bytearray()\tfilter()\tissubclass()\tpow()\tsuper()\t bytes()\tfloat()\titer()\tprint()\ttuple() callable()\tformat()\tlen()\tproperty()\ttype()\t chr()\tfrozenset()\tlist()\trange()\tvars()\t classmethod()\tgetattr()\tlocals()\trepr()\tzip()\t compile()\tglobals()\tmap()\treversed()\t__import__()\t complex()\thasattr()\tmax()\tround()\t  delattr()\thash()\tmemoryview()\tset()`\n",
    "\n",
    "Ainda que o conjunto de termos listados cubra um grande número de funcionalidades necessários para a composição de um programa, eles não são suficientes, outras funcionalidades podem ser adicionadas à Python 3 por meio da  importação de bibliotecas, ou livrarias, e mesmo pela implementação de funções e clásses próprias.\n",
    "\n",
    "Ao longo de todo o curso, utilizaremos bibliotecas diversas para adicionar funcionalidades extras aos nossos programas."
   ]
  },
  {
   "cell_type": "markdown",
   "metadata": {},
   "source": [
    "## 2. Típos básicos de dados\n",
    "\n",
    "A linguagem Python3, possui uma grande variedade de tipos de dados, no entanto são considerados dados básicos da linguagem, os seguintes:\n",
    "\n",
    "1. inteiros (`int`): utilizados para a representação de números inteiros.\n",
    "2. pontos flutuantes (`float`): utilizados para a representação de números reais.\n",
    "3. complexos (`complex`): utilizados para a representação de números complexos.\n",
    "4. lógicos(`logical`): utilizados para a representação dos valores lógicos `True` e `False`.\n",
    "\n",
    "Qualquer número que não possua representação computacional de sua parte decimal será considerado um inteiro. \n",
    "Nas linhas abaixo são mostrada variáveis inicializadas com números inteiros."
   ]
  },
  {
   "cell_type": "code",
   "execution_count": null,
   "metadata": {},
   "outputs": [],
   "source": [
    "var1 = 2\n",
    "var2 = 100\n",
    "var3 = -25\n",
    "var4 = -9000"
   ]
  },
  {
   "cell_type": "markdown",
   "metadata": {},
   "source": [
    "Valores que necessitam de representação computacional de sua parte decimal são implementados pelo tipo ponto flutuante (*float*), as linhas abaixo mostram a inicialização de variáveis com valores deste tipo."
   ]
  },
  {
   "cell_type": "code",
   "execution_count": null,
   "metadata": {},
   "outputs": [],
   "source": [
    "var5 = 2.5\n",
    "var6 = -10.008\n",
    "var7 = .508 # Note a omissão da parte inteira quando esta for nula.\n",
    "var9 = 9. # Note a omissão da parte decimal quando esta for nula."
   ]
  },
  {
   "cell_type": "markdown",
   "metadata": {},
   "source": [
    "Números complexos são declarados incializando-se ambas as partes, a parte real e a parte decimal.\n",
    "\n",
    "`2+3j` será entendido pelo Python como um número complexo pois possui duas partes declaradas a parte real (`2`) e a parte imaginária (`3j`), cada uma das partes inicializadas pode ser, por sua vez, um `float` ou um `int`.\n",
    "\n",
    "Na listagem abaixo, são utilizadas duas funções *built in* **aninhadas** de Python 3 para exibir o tipo do dado armazenado em `var10`."
   ]
  },
  {
   "cell_type": "code",
   "execution_count": null,
   "metadata": {},
   "outputs": [],
   "source": [
    "var10 = 1+1j\n",
    "print(type(var10))"
   ]
  },
  {
   "cell_type": "markdown",
   "metadata": {},
   "source": [
    "O último tipo de dado básico utilizado pelo Python3 são os dados booleanos. Esse tipo de dado só possui dois valores possíveis `True` - verdadeiro e `False` - falso, e são utulizados para armazer a condição de um estado lógico como sendo verdadeiro ou falso.  Os estados lógicos são obtidos por testes lógicos e que serão estudados de forma aprofundada posteriormente, no entanto, as linhas abaixo apreentam uma típica utilização deste tipo de dado."
   ]
  },
  {
   "cell_type": "code",
   "execution_count": null,
   "metadata": {},
   "outputs": [],
   "source": [
    "var11 = 25\n",
    "var12 = 5*5\n",
    "varlog1 = var11==var12 # a variável é inicializada com o teste lógico que verifica se var11 e var12 são iguais\n",
    "                       # == é o operador lógico binário que verifica se os operandos são iguais, retornando\n",
    "                       # True caso sejam e False caso não sejam.\n",
    "varlog2 = (var11+1)==var12\n",
    "print(varlog1)\n",
    "print(varlog2)"
   ]
  },
  {
   "cell_type": "markdown",
   "metadata": {},
   "source": [
    "Na listagem anterior utilizamos um novo tipo de operador, que é do tipo relacional, estudaremos operadores deste tipo em aulas posteriores."
   ]
  },
  {
   "cell_type": "markdown",
   "metadata": {},
   "source": [
    "### Funções\n",
    "\n",
    "Uma função computacional é um bloco de código reutilizável, ou seja, ele pode ser utilizado em diferentes partes do programa, ou até mesmo, em diferentes programas. \n",
    "\n",
    "O processo de concepção de uma função, chamado de prototipagem, inicia quando o programador decide que determinado bloco de código é reutilizável, de modo que pode ser chamado em diferentes partes do código ou em diferentes programas. Objetos desta natureza são denominados *callable* na linguagem Python 3.\n",
    "\n",
    "O desenvolvimento de programas com foco na reutilização é, atualmente, uma das práticas mais incentivadas, já que reduz consideravelmente o tempo de desenvolvimento de software. Em virtude disto, quando um programador desenvolve um algoritmo, ele deve primar pelo concepção deste algoritmo de forma modularizada (divida em partes menores) de modo que cada módulo seja reutilizável em outros programas ou partes do código. \n",
    "\n",
    "Atualmente, a modularização e reutilização do código é majoritariamente implementada por meio de um paradigma de programação de nominado Programação Orientado a Objetos, além da própria programação funcional em si.\n",
    "\n",
    "#### Definindo funções\n",
    "\n",
    "As funções são definidas por meio da instrução `def`, que marca o início do cabeçalho da função. O cabeçalho, por sua vez, deve conter além da intrução, o nome da função e o conjunto de parâmetros necessários para a execução da mesma. \n",
    "\n",
    "Suponha que se queira criar uma função computacional para determinar o módulo de um vetor no R³. \n",
    "\n",
    "Veja um exemplo de implementação simples."
   ]
  },
  {
   "cell_type": "code",
   "execution_count": null,
   "metadata": {},
   "outputs": [],
   "source": [
    "# Definição de uma função para a determinação do módulo de um vetor no R³\n",
    "def modulo_r3(comp1, comp2, comp3): # Header da função 'def' diz ao Python para considerar a definição da função\n",
    "                                    # cujo o nome será modulo_r3 e terá como parâmetros as variáveis\n",
    "                                    # comp1, comp2 e comp3.\n",
    "\n",
    "    return (comp1**2 +comp2**2 + comp3**2)**(1/2) # Instrui a função a retornar o módulo do vetor."
   ]
  },
  {
   "cell_type": "markdown",
   "metadata": {},
   "source": [
    "No exemplo anterior a função `modulo_r3()` foi inicializada e agora pode ser utilizada para a determinação do módulo de vetores no R³. As partes do código que sucessedem o caractere `#` são comentário e, como tal, são ignodaros pelo código."
   ]
  },
  {
   "cell_type": "code",
   "execution_count": null,
   "metadata": {},
   "outputs": [],
   "source": [
    "modulo_r3(3,4,5)"
   ]
  },
  {
   "cell_type": "code",
   "execution_count": null,
   "metadata": {},
   "outputs": [],
   "source": [
    "modulo_r3(3,4,0)"
   ]
  },
  {
   "cell_type": "code",
   "execution_count": null,
   "metadata": {},
   "outputs": [],
   "source": [
    "modulo_r3(3,0,0)"
   ]
  },
  {
   "cell_type": "markdown",
   "metadata": {},
   "source": [
    "### Exercício 1\n",
    "Escreva um pequeno programa que receba os coeficientes a, b e c de um polinômio do segundo grau e exiba na tela suas raízes. Tente definir uma função `bhaskara()` para implementar a parte do seu código que realiza do processamento matemático dos coeficientes. "
   ]
  }
 ],
 "metadata": {
  "kernelspec": {
   "display_name": "Python 3",
   "language": "python",
   "name": "python3"
  },
  "language_info": {
   "codemirror_mode": {
    "name": "ipython",
    "version": 3
   },
   "file_extension": ".py",
   "mimetype": "text/x-python",
   "name": "python",
   "nbconvert_exporter": "python",
   "pygments_lexer": "ipython3",
   "version": "3.8.5"
  }
 },
 "nbformat": 4,
 "nbformat_minor": 4
}
