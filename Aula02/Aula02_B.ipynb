{
 "cells": [
  {
   "cell_type": "markdown",
   "metadata": {},
   "source": [
    "# Computação Aplicada A Ciência e Engenharia\n",
    "\n",
    "## Introdução à Linguagem Python (Aula 02-A)\n",
    "\n",
    "## Conteúdo\n",
    "1. Tuplas\n",
    "2. Strings\n",
    "3. Dicionários"
   ]
  },
  {
   "cell_type": "markdown",
   "metadata": {},
   "source": [
    "## 1. Tuplas\n",
    "\n",
    "Tuplas são objetos semelhantes às listas porém imutáveis. Isto significa que seus elementos ou fatias não podem ser modificados, deste modo, depois de inicializada as tuplas já não podem mais ser editadas, a não ser por uma reatribuição. \n",
    "\n",
    "O processo denominado reatribuição, neste contexto, nada mais é do que armazenar em um *container* não vazio, ocupado por uma tupla neste caso, uma outra tupla.\n",
    "\n",
    "Diferentemente de listas, a inicialização de tuplas se dá pro meio de um par de parêteses."
   ]
  },
  {
   "cell_type": "code",
   "execution_count": null,
   "metadata": {},
   "outputs": [],
   "source": [
    "tupla_1 = (100, 101, 102, 103, 104, 105, 106, 107, 109, 110)"
   ]
  },
  {
   "cell_type": "markdown",
   "metadata": {},
   "source": [
    "Para mostrar a principal característica da tupla, vamos acessar seu quinto elemento e tentar somar 4 ao \n",
    "seu valor original."
   ]
  },
  {
   "cell_type": "code",
   "execution_count": null,
   "metadata": {},
   "outputs": [],
   "source": [
    "print(tupla_1[4])\n",
    "tupla_1[4] += 4  # ocorrerá um erro pois tuplas são imutáveis"
   ]
  },
  {
   "cell_type": "markdown",
   "metadata": {},
   "source": [
    "Note que houve um erro. Agora vamos tentar modificar os valroes dos três primeiros elementos da tupla."
   ]
  },
  {
   "cell_type": "code",
   "execution_count": null,
   "metadata": {},
   "outputs": [],
   "source": [
    "tupla_1[0:3]"
   ]
  },
  {
   "cell_type": "code",
   "execution_count": null,
   "metadata": {},
   "outputs": [],
   "source": [
    "tupla_1[0:3] = (97, 98, 99) # novamente ocorrerá um erro"
   ]
  },
  {
   "cell_type": "markdown",
   "metadata": {},
   "source": [
    "Novamente um erro. Porém, reatribuições são possíveis, veja o caso abaixo. "
   ]
  },
  {
   "cell_type": "code",
   "execution_count": null,
   "metadata": {},
   "outputs": [],
   "source": [
    "tupla_1 = (100, 102, 104, 106, 108, 110, 112, 114, 116)"
   ]
  },
  {
   "cell_type": "markdown",
   "metadata": {},
   "source": [
    "As tuplas são extremamente recomendáveis para conjuntos de dados estáticos, ou seja, que não modificarão seu valor durante a execução do programa.\n",
    "\n",
    "Devido à sua simplicidade, a classe *tuple* possui apenas dois métodos, que são:\n",
    "\n",
    "1. count()\tRetorna o número de vezes que um valor específico ocorre na tupla.\n",
    "2. index()\tRetorna o menor índice de um determinado valor na tupla."
   ]
  },
  {
   "cell_type": "markdown",
   "metadata": {},
   "source": [
    "## 2. *Strings*"
   ]
  },
  {
   "cell_type": "markdown",
   "metadata": {},
   "source": [
    "Python não faz distinção entre strings e caracteres isso permite que uma *strings* seja inicializada ou declarada, tanto entre aspas simples como entre aspas duplas. "
   ]
  },
  {
   "cell_type": "code",
   "execution_count": null,
   "metadata": {},
   "outputs": [],
   "source": [
    "nome = \"Reginaldo\""
   ]
  },
  {
   "cell_type": "code",
   "execution_count": null,
   "metadata": {},
   "outputs": [],
   "source": [
    "sobrenome = 'Gonçalves Leão Junior'"
   ]
  },
  {
   "cell_type": "markdown",
   "metadata": {},
   "source": [
    "Por convenção é comum a utilização de aspas duplas para strings de comprimento maior que 1 e simples para \n",
    "strings de um só caractere.\n",
    "\n"
   ]
  },
  {
   "cell_type": "markdown",
   "metadata": {},
   "source": [
    "Assim como as listas e tuplas as *strings* podem ser acessadas elemento a elemento ou fatiadas, veja nas linhas abaixo alguns exemplos."
   ]
  },
  {
   "cell_type": "code",
   "execution_count": null,
   "metadata": {},
   "outputs": [],
   "source": [
    "print(nome[0])\n",
    "print(nome[-2])\n",
    "print(sobrenome[-1])\n",
    "print(sobrenome[:-1])\n",
    "print(sobrenome[4:])"
   ]
  },
  {
   "cell_type": "markdown",
   "metadata": {},
   "source": [
    "As *strings*, assim como as tuplas, também são imutáveis, ou seja, não se pode alterar um de seus elementos individualmente ou mesmo uma de suas fatias.\n",
    "\n",
    "Nas duas listagens seguintes, uma tentativa de reatribuição do elemento zero da *strings* `nome` resulta em um erro, assim como a tentativa de reatribuição do slice `nome[0:3]`."
   ]
  },
  {
   "cell_type": "code",
   "execution_count": null,
   "metadata": {},
   "outputs": [],
   "source": [
    "nome[0] = 'r'"
   ]
  },
  {
   "cell_type": "code",
   "execution_count": null,
   "metadata": {},
   "outputs": [],
   "source": [
    "nome[0:3] = \"abc\""
   ]
  },
  {
   "cell_type": "markdown",
   "metadata": {},
   "source": [
    "Note que em ambos os casos, o erro retornado foi `str' object does not support item assignment`, indicando que as string não podem ter seus elementos modificados individualmente ou em fatias, no entanto, a reatribuição ainda é possível. "
   ]
  },
  {
   "cell_type": "markdown",
   "metadata": {},
   "source": [
    "### 2.1  Métodos de strings\n",
    "\n",
    "*Strings* também são objetos, e possuem inúmeros métodos, os mais utilizados são listados abaixo.\n",
    "\n",
    "01. capitalize()\tConverte o primeiro caractere para maiúsculas\n",
    "02. casefold()\t    Converte string em letras minúsculas\n",
    "03. center()\t    Retorna uma string centrado\n",
    "04. count()\t        Retorna o número de vezes que um valor especificado ocorre em uma string\n",
    "05. endswith()\t    Retorna true se a string termina com o valor especificado\n",
    "06. find()\t        Pesquisa na string um valor especificado e retorna a posição de onde foi encontrado\n",
    "07. format()\t    Formatos valores especificados em uma corda\n",
    "08. index()\t        Pesquisas na string por um valor especificado e retorna a posição de onde foi encontrado\n",
    "09. isalnum()    \tRetorna verdade se todos os caracteres da string forem alfa-numéricos\n",
    "10. isalpha()\t    Retorna verdade se todos os caracteres da string forem alfabéticos\n",
    "11. isdecimal()\t    Retorna verdade se todos os caracteres da string forem decimais\n",
    "12. islower()\t    Retorna verdade se todos os caracteres da string forem minúsculos\n",
    "13. isnumeric()\t    Retorna verdade se todos os caracteres da string forem numéricos\n",
    "14. isspace()\t    Retorna verdade se todos os caracteres da string forem espaços em branco\n",
    "15. isupper()\t    Retorna verdade se todos os caracteres da string forem maiúsculos\n",
    "16. lower()\t        Converte a string em minúsculo\n",
    "17. lstrip()\t    Elimina caracteres brancos a esquerda da string\n",
    "18. replace()\t    Retorna uma string na qual um valor especificado é substituído por outro\n",
    "19. rfind()\t        Pesquisas na string para um valor especificado e retorna a última posição de onde foi encontrado\n",
    "20. rindex()\t    Pesquisas na string para um valor especificado e retorna a última posição de onde foi encontrado\n",
    "21. rstrip()\t    Retorna uma stringo com os caracteres em branco a direita suprimidos \n",
    "22. split()\t        Retorna uma lista onde cada elemento é um elemento da string divido segundo um especificador.\n",
    "23. splitlines()\tRetorna uma lista onde cada elemento é uma linha da string.\n",
    "24. startswith()\tRetorna True se a string inicia por um valor específico.\n",
    "25. strip()\t        Retorna uma string com todos os caracteres em branco apagados.\n",
    "26. swapcase()\t    Alterna entre maísuclo e minúsculo na string.\n",
    "27. title()\t        Converte o primeiro caractere de cada palavra na string em maículo\n",
    "28. upper()\t        Converte a string em maísculo"
   ]
  },
  {
   "cell_type": "markdown",
   "metadata": {},
   "source": [
    "Sobre os métodos de *strings*, é preciso se fazer uma ressalva importante. As funcionalidades de alguns deles sugerem que a *strings* original é convertida de algum modo. O que não é verdade, já que são objetos imutáveis, as funcionalidades destes métodos na verdade retornam uma segunda string que, baseada na primeira, apresenta as modificações disponibilizadas pelo método. \n",
    "\n",
    "Veja o caso do método `upper()` por exemplo: "
   ]
  },
  {
   "cell_type": "code",
   "execution_count": null,
   "metadata": {},
   "outputs": [],
   "source": [
    "nome = \"reginaldo\"\n",
    "nome.upper() # chama o método para a string armazenada em nome\n",
    "print(nome)"
   ]
  },
  {
   "cell_type": "markdown",
   "metadata": {},
   "source": [
    "No caso anterir quando a função `print()` exibiu `nome` a *strings* original foi apresentada, isto porque o método `upper()` não modificou `nome` mas sim retornou uma segunda *strings* maíscula baseada naquela contida em `nome`.\n",
    "Veja a listagem a seguir:"
   ]
  },
  {
   "cell_type": "code",
   "execution_count": null,
   "metadata": {},
   "outputs": [],
   "source": [
    "print(nome.upper())"
   ]
  },
  {
   "cell_type": "markdown",
   "metadata": {},
   "source": [
    "## 3. Dicionários\n",
    "\n",
    "Dicionários são coleções cuja a forma de idexação se dá por meio de chaves e não de índices, assim, cada elemento de um dicionário possui duas partes, a chave e o valor, veja como um dicionário pode ser inicializado:"
   ]
  },
  {
   "cell_type": "code",
   "execution_count": null,
   "metadata": {},
   "outputs": [],
   "source": [
    "dic1 = {\"chave\":\"valor da chave\"} # <- modelo de dicionário\n",
    "dic2 = {\"senha\": 12345}\n",
    "dic3 = {\"numero da conta\": 456, \"saldo\":-250.50}"
   ]
  },
  {
   "cell_type": "code",
   "execution_count": null,
   "metadata": {},
   "outputs": [],
   "source": [
    "dic1[\"chave\"]"
   ]
  },
  {
   "cell_type": "code",
   "execution_count": null,
   "metadata": {},
   "outputs": [],
   "source": [
    "dic3[\"saldo\"]"
   ]
  },
  {
   "cell_type": "markdown",
   "metadata": {},
   "source": [
    "Os dicionários são estruturas que permitem a identificação dos elementos da coleção de forma mais verbosa e inteligível. No entanto, é preciso mencionar que a especialidade dos dicionários tem um custo computacional, enquanto as listas e tuplas são containers extremamente rápidos de serem acessados, os dicionários são mais lentos. As diferenças geralmente não são notadas para dicionários curtos, mas em projetos que exigem um elevando volume de armazenamento de dados, a diferença de desempenho pode ser bastante significativa."
   ]
  },
  {
   "cell_type": "markdown",
   "metadata": {},
   "source": [
    "A adição e modificação de elementos de dicionários é bastante simples e intuitiva, veja nas linhas abaixo como um dicionário pode ser inicializado vazio e elementos podem ser adicionados e modificados, ao longo de seu ciclo de vida."
   ]
  },
  {
   "cell_type": "code",
   "execution_count": null,
   "metadata": {},
   "outputs": [],
   "source": [
    "vetor = {}\n",
    "vetor[\"compx\"] = 23.65"
   ]
  },
  {
   "cell_type": "code",
   "execution_count": null,
   "metadata": {},
   "outputs": [],
   "source": [
    "vetor"
   ]
  },
  {
   "cell_type": "code",
   "execution_count": null,
   "metadata": {},
   "outputs": [],
   "source": [
    "vetor[\"compy\"] = -99\n",
    "vetor[\"compz\"] = .669"
   ]
  },
  {
   "cell_type": "code",
   "execution_count": null,
   "metadata": {},
   "outputs": [],
   "source": [
    "vetor"
   ]
  },
  {
   "cell_type": "markdown",
   "metadata": {},
   "source": [
    "### 3.1 Métodos de dicionários\n",
    "\n",
    "Os métodos mais utilizados dos dicionários são os seguintes:\n",
    "\n",
    "1. clear()\tRemove todos os elementos de um dicionários\n",
    "2. copy()\tRetorna uma cópia de um dicionários\n",
    "3. get()\tRetorna o valor de uma chave específica\n",
    "4. items()\tRetorna uma lista contendo tuplas com os pares chave-valor do dicionário\n",
    "5. keys()\tRetorna uma lista contendo as chaves dos dicionários\n",
    "6. pop()\tRemove uma elemento com uma chave específica\n",
    "7. values()\tRetorna uma lsita com todos os valores do dicionário"
   ]
  },
  {
   "cell_type": "code",
   "execution_count": null,
   "metadata": {},
   "outputs": [],
   "source": []
  }
 ],
 "metadata": {
  "kernelspec": {
   "display_name": "Python 3",
   "language": "python",
   "name": "python3"
  },
  "language_info": {
   "codemirror_mode": {
    "name": "ipython",
    "version": 3
   },
   "file_extension": ".py",
   "mimetype": "text/x-python",
   "name": "python",
   "nbconvert_exporter": "python",
   "pygments_lexer": "ipython3",
   "version": "3.8.5"
  }
 },
 "nbformat": 4,
 "nbformat_minor": 4
}
