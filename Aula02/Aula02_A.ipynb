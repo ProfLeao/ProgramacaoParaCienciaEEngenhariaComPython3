{
 "cells": [
  {
   "cell_type": "markdown",
   "metadata": {},
   "source": [
    "# Computação Aplicada A Ciência e Engenharia\n",
    "\n",
    "## Introdução à Linguagem Python (Aula 02-A)\n",
    "\n",
    "## Conteúdo\n",
    "Listas do Python 3"
   ]
  },
  {
   "cell_type": "markdown",
   "metadata": {},
   "source": [
    "## 1. Listas\n",
    "\n",
    "Na Aula 01, foram vistos os tipos de dados básicos da linguagem Python 3 mais comumente utilizados para a representação de valores únicos. No entanto, a linguagem ainda possui outros tipos de dados, muito usuais, que permitem o armazenamento, não apenas de uma informação, mas de um conjunto de informações em uma única unidade \n",
    "computacional. As estruturas de dados capazes de armazenar conjuntos de dados em Python 3 são denominadas coleções e a unidade computacional que as contem, denominada *container*. \n",
    "\n",
    "As listas são as coleções mais vesáteis do Python3, isto por dois motivos principais:\n",
    "\n",
    "1. Elas podem armazenar quaiquers outros tipos de dados internamente, inclusive outras coleções;\n",
    "2. As listas são extremamente mutáveis e facilmente fragmentáveis.\n",
    "\n",
    "A inicialização de uma lista se dá pela definição de uma variável que a conterá (uma variável *container*) e a inicialização da lista por meio de um par de colchetes, a linha a seguir mostra a inicialização de uma lista contendo elementos do tipo string, inteiros e pontos flutauantes."
   ]
  },
  {
   "cell_type": "code",
   "execution_count": null,
   "metadata": {},
   "outputs": [],
   "source": [
    "lista = [12, 55.768, \"Reginaldo\"]"
   ]
  },
  {
   "cell_type": "markdown",
   "metadata": {},
   "source": [
    "Tecnicamente uma lista é um vetor que pode armazer quaisquer tipos de dados inclusive outro de complexidade superior. \n",
    "\n",
    "À listas que possuem listas aninhadas, dá-se o nome arranjo (*array*). Arranjos possuem dimensão, o número de dimensões em um arranjoé determinado pela quantidade de níveis de aninhmamente presente nele. Um arranjo bidimensional, por exemplo, pode ser implementado da seguinte forma:"
   ]
  },
  {
   "cell_type": "code",
   "execution_count": null,
   "metadata": {},
   "outputs": [],
   "source": [
    "lista_2d = [[1, 2], [3, 4]] "
   ]
  },
  {
   "cell_type": "markdown",
   "metadata": {},
   "source": [
    "A dimensionalidade do *array* pode ser incrementada aninhando-se listas sucessivamente, no entanto, é importante \n",
    "mencionar que, apesar deste método ser funcional, ele não é usual na linguagem Python3 para a representação \n",
    "destas estruturas matemáticas semelhantes, como as matrizes. Posteriormente veremos objetos do tipo NumPy-*array* que o fazem de forma mais eficiente, já que possuem métodos de operação já implementados, que não existem nas listas de Python e são construídos a partir de código compilado.\n",
    "\n",
    "Apesar disto, as listas são uma excelente opção para o armazenamento de dados simples, \n",
    "tais como as cordenadas de um vetor ou ponto, grandezas que devem ser armazenada na memória para utilização \n",
    "posterior e quaisquer outros dados que não precisarão ser tratados por métodos numéricos mais elaborados."
   ]
  },
  {
   "cell_type": "markdown",
   "metadata": {},
   "source": [
    "### 1.1 Fatiando Listas - Parte 1\n",
    "\n",
    "Os elementos de uma lista podem ser acessador de forma individual ou por meio de subconjuntos da lista, para\n",
    "fazê-lo em primeiro lugar é necessário conhecer a indexação nativa do Python3.\n",
    "\n",
    "```python\n",
    "lista = [12, 55.768, \"Reginaldo\"]\n",
    "         0     1         2  \n",
    "```\n",
    "\n",
    "Os números abaixo de cada elemento da lista são seus respectivos índices, podem ser acessados da seguinte forma:"
   ]
  },
  {
   "cell_type": "code",
   "execution_count": null,
   "metadata": {},
   "outputs": [],
   "source": [
    "lista[0]"
   ]
  },
  {
   "cell_type": "code",
   "execution_count": null,
   "metadata": {},
   "outputs": [],
   "source": [
    "lista[1]"
   ]
  },
  {
   "cell_type": "code",
   "execution_count": null,
   "metadata": {},
   "outputs": [],
   "source": [
    "lista[2]"
   ]
  },
  {
   "cell_type": "markdown",
   "metadata": {},
   "source": [
    "A linguagem Python3 também possui a opção de acesso reverso por meio do qual o último elemento pode \n",
    "ser acessado pelo índice -1, o penúltimo -2 e assim sucessivamente. Esta opção é útil quando não se conhece o tamanho da lista e se deseja ter acesso aos últimos elementos nela armazenados."
   ]
  },
  {
   "cell_type": "code",
   "execution_count": null,
   "metadata": {},
   "outputs": [],
   "source": [
    "lista[-1]"
   ]
  },
  {
   "cell_type": "code",
   "execution_count": null,
   "metadata": {},
   "outputs": [],
   "source": [
    "lista[-2]"
   ]
  },
  {
   "cell_type": "code",
   "execution_count": null,
   "metadata": {},
   "outputs": [],
   "source": [
    "lista[-3]"
   ]
  },
  {
   "cell_type": "markdown",
   "metadata": {},
   "source": [
    "### EXEMPLO 1 - Utilizando listas para armazenar dados\n",
    "\n",
    "Crie um programa que solicite o nome, a idade e númerode matricula de um usuário e armazene estes valores em uma lista. "
   ]
  },
  {
   "cell_type": "code",
   "execution_count": null,
   "metadata": {},
   "outputs": [],
   "source": [
    "identificacao = [\"nome\", \"matricula\"] # criando a lista com valores fictícios\n",
    "\n",
    "# Prompt com o usuário\n",
    "identificacao[0] = input(\"Digite seu nome: \")\n",
    "identificacao[1] = input(\"Digite seu número de matrícula: \")\n",
    "\n",
    "# Exibindo a lista\n",
    "print(identificacao)\n"
   ]
  },
  {
   "cell_type": "markdown",
   "metadata": {},
   "source": [
    "### 1.2 Fatiando Listas - Parte 2\n",
    "\n",
    "O acesso aos elementos tratados na seção anterior é denominado de acesso elementar ou fatiamento unário, \n",
    "este último nome é usual devido ao fato de os dados de tipo coleção do Python poderem ser acessados de \n",
    "outras formas mais complexa.\n",
    "\n",
    "Vejamos o caso de uma lista com 10 elementos."
   ]
  },
  {
   "cell_type": "code",
   "execution_count": null,
   "metadata": {},
   "outputs": [],
   "source": [
    "lista = [100, 101, 102, 103, 104, 105, 106, 107, 109, 110]"
   ]
  },
  {
   "cell_type": "markdown",
   "metadata": {},
   "source": [
    "Nesta lista a indexação tem a seguinte estrutura:\n",
    "    \n",
    "```python\n",
    "lista = [100, 101, 102, 103, 104, 105, 106, 107, 109, 110]\n",
    "         0     1    2    3    4    5    6    7    8    9\n",
    "```\n",
    "\n",
    "Os elementos de 101 a 105 podem ser acessados, por exemplo, da seguinte forma:"
   ]
  },
  {
   "cell_type": "code",
   "execution_count": null,
   "metadata": {},
   "outputs": [],
   "source": [
    "lista[1:6]"
   ]
  },
  {
   "cell_type": "markdown",
   "metadata": {},
   "source": [
    "Onde 1 é o índice *i* do primeiro elemento a ser indexado, e 6 o índice *j+1* do último elemento a ser indexado. Em outras palavras a fatia é criada fornecendo-se um intervado dos índices desejados fechado no primeiro elemento e aberto no último na forma ```[n,j+1[```.\n",
    "\n",
    "As fatias também podem ser acessadas por meio da seguinte notação.\n",
    "\n",
    "Suponha que se deseje acessar uma lista, a partir do primeiro elemento até o quarto então a declaração de \n",
    "acesso poderia ser:"
   ]
  },
  {
   "cell_type": "code",
   "execution_count": null,
   "metadata": {},
   "outputs": [],
   "source": [
    "lista[0:4]"
   ]
  },
  {
   "cell_type": "markdown",
   "metadata": {},
   "source": [
    "ou"
   ]
  },
  {
   "cell_type": "code",
   "execution_count": null,
   "metadata": {},
   "outputs": [],
   "source": [
    "lista[:4]"
   ]
  },
  {
   "cell_type": "markdown",
   "metadata": {},
   "source": [
    "Da mesma forma a marcação do último elemento da lista pode ser feita como:"
   ]
  },
  {
   "cell_type": "code",
   "execution_count": null,
   "metadata": {},
   "outputs": [],
   "source": [
    "lista[5:]"
   ]
  },
  {
   "cell_type": "markdown",
   "metadata": {},
   "source": [
    "### 1.3 Métodos de Listas\n",
    "\n",
    "Posteriormente veremos que as listas, assim como todos os outros tipos de dados do Python, são na verdade instâncias (ou objetos) de uma determinada classe. Um objeto pode possuir funcionalidades intrínsecas que são denominadas métodos. Os métodos são implementados na classe para permitir que suas instâncias modifiquem seus atributos (valores armazenados) ou interajam com outros elementos, como variáveis, objetos de outras classes, funções, ou mesmo o usuário. Os métodos disponíveis para as listas são:\n",
    "\n",
    "01. append()    Adiciona elementos ao final da lista\n",
    "02. clear()\t    Remove todos os elementos de uma lista\n",
    "03. copy()\t    Retorna uma lista cópia da original \n",
    "04. count()\t    Retorna o número de elementos com um valore específico\n",
    "05. extend()\tAdiciona elementos de um outro container ao final da lista\n",
    "06. index()\t    Retorna o menor índice de um determinado valor de uma lista\n",
    "07. insert()\tAdiciona elementos em uma posição específica\n",
    "08. pop()\t    Remove elementos em uma posição específica\n",
    "09. remove()\tRemove o ítem de menor índice com um valor específico\n",
    "10. reverse()\tReverte a ordem dos elementos de uma lsita\n",
    "11. sort()\t    Organiza a lista pelo método de ordenação mais aparente\n",
    "\n",
    "Estes métodos permitem que as listas sejam manipuladas de uma forma bastante dinâmica, precisa e rápida. O **Exemplo 1**, visto anteriormente, poderia ser resolvido de uma maneira muito mais simples e elegante utilizando o método de lista `append()`. Veja abaixo uma nova proposta de solução."
   ]
  },
  {
   "cell_type": "code",
   "execution_count": null,
   "metadata": {},
   "outputs": [],
   "source": [
    "identificacao = [] # inicializa uma lista vazia.\n",
    "\n",
    "# Prompt com o usuário\n",
    "identificacao.append(input(\"Digite seu nome: \"))\n",
    "identificacao.append(input(\"Digite seu número de matrícula: \"))\n",
    "\n",
    "# Exibindo a lista\n",
    "print(identificacao)"
   ]
  },
  {
   "cell_type": "markdown",
   "metadata": {},
   "source": [
    "Nesta nova solução o método `append()` é utilizado para adicionar um elemento ao final da lista. Na primeira vez que é utilizado, o nome é adicionado à lista vazia, na segunda utilização, a matrícula é adicionada após o nome. \n",
    "\n",
    "Finalmente chamo a atenção para a sintaxe de chamada do método, em primeiro lugar se faz a menção ao objeto, e o ponto (`.`) acessa o método, que na verdade é uma função interna ao objeto e por isso deve ser sucedida pelos parênteses."
   ]
  },
  {
   "cell_type": "markdown",
   "metadata": {},
   "source": [
    "### Exercício 1\n",
    "Crie uma função que receba três valores (x, y, z) e retorne uma lista com esses valores ordenados da seguinte forma:\n",
    " - 1º elemento: valor de x\n",
    " - 2º elemento: valor de y\n",
    " - 3º elemento: valor de z\n",
    "\n",
    "Em seguida, modifique a função `modulo_r3()` da Aula01_B para receber, não três elementos, mas apenas um vetor contendo três coordenadas e ainda assim continue a retornar o módulo do vetor. "
   ]
  }
 ],
 "metadata": {
  "kernelspec": {
   "display_name": "Python 3",
   "language": "python",
   "name": "python3"
  },
  "language_info": {
   "codemirror_mode": {
    "name": "ipython",
    "version": 3
   },
   "file_extension": ".py",
   "mimetype": "text/x-python",
   "name": "python",
   "nbconvert_exporter": "python",
   "pygments_lexer": "ipython3",
   "version": "3.8.5"
  }
 },
 "nbformat": 4,
 "nbformat_minor": 4
}
