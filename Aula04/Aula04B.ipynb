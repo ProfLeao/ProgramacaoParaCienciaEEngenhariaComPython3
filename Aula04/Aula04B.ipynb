{
 "cells": [
  {
   "cell_type": "markdown",
   "metadata": {},
   "source": [
    "# Computação Aplicada #\n",
    "## Aula 04 B ##"
   ]
  },
  {
   "cell_type": "markdown",
   "metadata": {},
   "source": [
    "### Conteúdo\n",
    "\n",
    "1. Personalização\n",
    "2. Barras de erros\n",
    "3. Importação de dados\n",
    "4. Histogramas"
   ]
  },
  {
   "cell_type": "markdown",
   "metadata": {},
   "source": [
    "Sempre que o `plt.show()` é executado, a memória do matplotlib é resetada e os dados da plotagem\n",
    "são destruídos.\n",
    "Veja no código abaixo como adicionar configurações mais específicas para este gráfico."
   ]
  },
  {
   "cell_type": "markdown",
   "metadata": {
    "tags": []
   },
   "source": [
    "### Personalização ### "
   ]
  },
  {
   "cell_type": "markdown",
   "metadata": {},
   "source": [
    "Para a seleção de marcores basta substituir nas strings de controle de estilo (terceiro parâmetro da função plot) quaisquer um dos marcadores postrados na figura abaixo."
   ]
  },
  {
   "cell_type": "code",
   "execution_count": null,
   "metadata": {
    "tags": []
   },
   "outputs": [],
   "source": [
    "import numpy as np\n",
    "import matplotlib.pyplot as plt\n",
    "from matplotlib.lines import Line2D\n",
    "\n",
    "\n",
    "points = np.ones(3)  # Draw 3 points for each line\n",
    "text_style = dict(horizontalalignment='right', verticalalignment='center',\n",
    "                  fontsize=12, fontdict={'family': 'monospace'})\n",
    "marker_style = dict(linestyle=':', color='0.8', markersize=10,\n",
    "                    mfc=\"C0\", mec=\"C0\")\n",
    "\n",
    "\n",
    "def format_axes(ax):\n",
    "    ax.margins(0.2)\n",
    "    ax.set_axis_off()\n",
    "    ax.invert_yaxis()\n",
    "\n",
    "\n",
    "def nice_repr(text):\n",
    "    return repr(text).lstrip('u')\n",
    "\n",
    "\n",
    "def math_repr(text):\n",
    "    tx = repr(text).lstrip('u').strip(\"'\").strip(\"$\")\n",
    "    return r\"'\\${}\\$'\".format(tx)\n",
    "\n",
    "\n",
    "def split_list(a_list):\n",
    "    i_half = len(a_list) // 2\n",
    "    return (a_list[:i_half], a_list[i_half:])\n",
    "\n",
    "fig, axes = plt.subplots(ncols=2)\n",
    "fig.suptitle('un-filled markers', fontsize=14)\n",
    "\n",
    "# Filter out filled markers and marker settings that do nothing.\n",
    "unfilled_markers = [m for m, func in Line2D.markers.items()\n",
    "                    if func != 'nothing' and m not in Line2D.filled_markers]\n",
    "\n",
    "for ax, markers in zip(axes, split_list(unfilled_markers)):\n",
    "    for y, marker in enumerate(markers):\n",
    "        ax.text(-0.5, y, nice_repr(marker), **text_style)\n",
    "        ax.plot(y * points, marker=marker, **marker_style)\n",
    "        format_axes(ax)\n",
    "\n",
    "plt.show()"
   ]
  },
  {
   "cell_type": "code",
   "execution_count": null,
   "metadata": {},
   "outputs": [],
   "source": [
    "fig, axes = plt.subplots(ncols=2)\n",
    "for ax, markers in zip(axes, split_list(Line2D.filled_markers)):\n",
    "    for y, marker in enumerate(markers):\n",
    "        ax.text(-0.5, y, nice_repr(marker), **text_style)\n",
    "        ax.plot(y * points, marker=marker, **marker_style)\n",
    "        format_axes(ax)\n",
    "fig.suptitle('filled markers', fontsize=14)\n",
    "\n",
    "plt.show()"
   ]
  },
  {
   "cell_type": "markdown",
   "metadata": {},
   "source": [
    "Para a seleção de cores dos gráficos basta adicionar na string de controle os caracteres de seleção de cor.\n",
    "- b : blue\n",
    "- g : green\n",
    "- r : red\n",
    "- c : cyan\n",
    "- m : magenta\n",
    "- y : yellow\n",
    "- k : black\n",
    "- w : white\n",
    "\n",
    "Todavia o pyplot é capaz de fazer a seleção automática segundo um algorítimo de otimização de contraste. Particularmente recomendo que a seleção de cores seja destinada ao próprio pyplot. "
   ]
  },
  {
   "cell_type": "code",
   "execution_count": null,
   "metadata": {},
   "outputs": [],
   "source": [
    "import numpy as np\n",
    "import matplotlib.pyplot as plt\n",
    "\n",
    "def func_1(xis, *arg):\n",
    "    arg = arg[0:3]\n",
    "    yps = arg[0]*xis**2 + arg[1]*xis + arg[2]\n",
    "    return yps\n",
    "\n",
    "xis = np.linspace(-50,50,15)\n",
    "\n",
    "yps1 = func_1(xis, 7,8,9)\n",
    "yps2 = func_1(xis, -1,1,0)\n",
    "\n",
    "plt.subplot(1,2,1) #Matriz 1x2 posição 1\n",
    "plt.plot(xis,yps1, '-gv',  label ='a=7, b=8, c=9')\n",
    "plt.legend()\n",
    "plt.xlabel('Eixo X (unidade)')\n",
    "plt.ylabel('Eixo Y (unidade)')\n",
    "plt.title('Título do Gráfico')\n",
    "plt.grid()\n",
    "\n",
    "plt.subplot(1,2,2) #Matriz 1x2 posição 2\n",
    "plt.plot(xis,yps2, '-rd', label = 'a=1, b=1, c=1')\n",
    "plt.legend()\n",
    "plt.xlabel('Eixo X (unidade)')\n",
    "plt.ylabel('Eixo Y (unidade)')\n",
    "plt.title('Título do Gráfico')\n",
    "plt.grid()\n",
    "\n",
    "plt.show()"
   ]
  },
  {
   "cell_type": "markdown",
   "metadata": {},
   "source": [
    "### Atividade 2 ###\n",
    "Personalize os quadros gráficos anteriores modificando suas cores e marcadores, conforme sua preferência e atualizando o modo de plotagem para a forma mais moderna. "
   ]
  },
  {
   "cell_type": "markdown",
   "metadata": {},
   "source": [
    "### Inserindo Barras de Erros ###"
   ]
  },
  {
   "cell_type": "markdown",
   "metadata": {},
   "source": [
    "Uma barra de erro nada mais é que um gráfico sobreposto à plotagem propriamente dita, portanto, para construí-las, basta utilizar a função `errorbar(xis, yps, xerr=value, yerr = value, capsize = value)`. Vejamos como fica para um dos gráficos mostrados anteriormente."
   ]
  },
  {
   "cell_type": "code",
   "execution_count": null,
   "metadata": {},
   "outputs": [],
   "source": [
    "import numpy as np\n",
    "import matplotlib.pyplot as plt\n",
    "\n",
    "def func_1(xis, *arg):\n",
    "    arg = arg[0:3]\n",
    "    yps = arg[0]*xis**2 + arg[1]*xis + arg[2]\n",
    "    return yps\n",
    "\n",
    "xis = np.linspace(-50,50,15)\n",
    "\n",
    "yps1 = func_1(xis, 7,8,9)\n",
    "yps2 = func_1(xis, -1,1,0)\n",
    "\n",
    "plt.plot(xis,yps1, '-g.',  label ='a=7, b=8, c=9')\n",
    "plt.errorbar(xis, yps1, xerr=xis/10, yerr = yps1/10,   capsize=3)\n",
    "plt.legend()\n",
    "plt.xlabel('Eixo X (unidade)')\n",
    "plt.ylabel('Eixo Y (unidade)')\n",
    "plt.title('Título do Gráfico')\n",
    "plt.grid()"
   ]
  },
  {
   "cell_type": "markdown",
   "metadata": {},
   "source": [
    "O parâmetro `capsize` é opcional e é utilizado para determinar quantos pixels de largura deverá ter o delimitador superior e inferior da barra de erros."
   ]
  },
  {
   "cell_type": "markdown",
   "metadata": {},
   "source": [
    "### Atividade 3 ###\n",
    "Crie um único plano que contenha as quatro funções anteriores. Os marcadores de cada curva devem mostrar uma barra de erro na direção de y. Os erros de cada marcador devem ser determinados como a distância absoluta entre o valor de yi do marcador e a média de todos os outros marcoadores que têm o mesmo valor de x. Ou seja, o erro de um valor y1, por exemplo, deve ser determinado por:\n",
    "\n",
    "yerr = y1(x) - ((y1(x) + y2(x) + y3(x) + y4(x))/4)"
   ]
  },
  {
   "cell_type": "markdown",
   "metadata": {},
   "source": [
    "### Abrindo arquivos de Dados e Plotando Histogramas ###"
   ]
  },
  {
   "cell_type": "markdown",
   "metadata": {},
   "source": [
    "Suponha que tenha sido feita uma contagem qualquer e que estes valores precisem ser mostrados para se perscrutar o perfil de sua distribuição. Análises desta natureza, permitem que o comportamento global de um fenômeno aleatório seja previsto com base em uma amostra colida aleatoriamente. Para realizar tal análise é necessário que se construa o histograma de tais valores. "
   ]
  },
  {
   "cell_type": "markdown",
   "metadata": {},
   "source": [
    "Suponha ainda que os dados provenientes da contagem estejam contidos em um arquivo denominado *dados.dat*, este arquivo deve ser endereçado à memória pelo Python e então tratado matematicamente. Vejamos como fazê-lo."
   ]
  },
  {
   "cell_type": "code",
   "execution_count": null,
   "metadata": {},
   "outputs": [],
   "source": [
    "import numpy as np \n",
    "\n",
    "#Abertura do arquivo\n",
    "dados = np.loadtxt('dados.dat')"
   ]
  },
  {
   "cell_type": "code",
   "execution_count": null,
   "metadata": {},
   "outputs": [],
   "source": [
    "print(dados)"
   ]
  },
  {
   "cell_type": "markdown",
   "metadata": {},
   "source": [
    "Agora a variável `dados` contém um vetor do numpy com os dados a serem analizados. Vejamos como manipulá-los:"
   ]
  },
  {
   "cell_type": "code",
   "execution_count": null,
   "metadata": {},
   "outputs": [],
   "source": [
    "media = np.mean(dados) #Determinação da média dos valores\n",
    "print(media)"
   ]
  },
  {
   "cell_type": "code",
   "execution_count": null,
   "metadata": {},
   "outputs": [],
   "source": [
    "des_pad = np.std(dados) #Determinação do desvio padrão\n",
    "print(des_pad)"
   ]
  },
  {
   "cell_type": "code",
   "execution_count": null,
   "metadata": {},
   "outputs": [],
   "source": [
    "import matplotlib.pyplot as plt\n",
    "\n",
    "plt.hist(dados, bins='auto')\n",
    "plt.xlabel('Temperatura ºC')\n",
    "plt.ylabel('Frequência')\n",
    "plt.show()"
   ]
  },
  {
   "cell_type": "markdown",
   "metadata": {},
   "source": [
    "Caso deseje que a frequência seja normalizada, então basta modificar o código acima para a forma:"
   ]
  },
  {
   "cell_type": "code",
   "execution_count": null,
   "metadata": {},
   "outputs": [],
   "source": [
    "plt.hist(dados, density=1, bins='auto')\n",
    "plt.xlabel('Valor')\n",
    "plt.ylabel('Frequência Relativa')\n",
    "plt.show()"
   ]
  },
  {
   "cell_type": "markdown",
   "metadata": {},
   "source": [
    "### Atividade 4 ###\n",
    "\n",
    "Plote 3 histogramas em uma matriz de plotagem do tipo 2x2 que contenha os histogramas dos arquivos de dados disponibilizados."
   ]
  },
  {
   "cell_type": "code",
   "execution_count": null,
   "metadata": {},
   "outputs": [],
   "source": []
  }
 ],
 "metadata": {
  "kernelspec": {
   "display_name": "Python 3 (ipykernel)",
   "language": "python",
   "name": "python3"
  },
  "language_info": {
   "codemirror_mode": {
    "name": "ipython",
    "version": 3
   },
   "file_extension": ".py",
   "mimetype": "text/x-python",
   "name": "python",
   "nbconvert_exporter": "python",
   "pygments_lexer": "ipython3",
   "version": "3.9.16"
  }
 },
 "nbformat": 4,
 "nbformat_minor": 4
}
